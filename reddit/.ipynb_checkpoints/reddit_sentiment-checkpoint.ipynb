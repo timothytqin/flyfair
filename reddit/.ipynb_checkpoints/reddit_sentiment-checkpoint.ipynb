{
 "cells": [
  {
   "cell_type": "code",
   "execution_count": 1,
   "id": "8e8b2000-9aad-498b-8cfc-ff053f5317c7",
   "metadata": {},
   "outputs": [
    {
     "name": "stderr",
     "output_type": "stream",
     "text": [
      "[nltk_data] Downloading package vader_lexicon to\n",
      "[nltk_data]     /Users/stevehan/nltk_data...\n",
      "[nltk_data]   Package vader_lexicon is already up-to-date!\n",
      "[nltk_data] Downloading package stopwords to\n",
      "[nltk_data]     /Users/stevehan/nltk_data...\n",
      "[nltk_data]   Package stopwords is already up-to-date!\n"
     ]
    },
    {
     "data": {
      "text/plain": [
       "True"
      ]
     },
     "execution_count": 1,
     "metadata": {},
     "output_type": "execute_result"
    }
   ],
   "source": [
    "#!/usr/bin/env python\n",
    "# coding: utf-8\n",
    "\n",
    "# In[1]:\n",
    "\n",
    "\n",
    "import nltk\n",
    "from nltk.sentiment.vader import SentimentIntensityAnalyzer as SIA\n",
    "import praw\n",
    "import datetime as dt\n",
    "import pandas as pd\n",
    "\n",
    "\n",
    "# In[2]:\n",
    "\n",
    "\n",
    "nltk.download('vader_lexicon')\n",
    "nltk.download('stopwords')\n",
    "\n",
    "\n",
    "# In[3]:\n"
   ]
  },
  {
   "cell_type": "code",
   "execution_count": 2,
   "id": "1b2dffec-e933-4850-bb50-55af4d37a5af",
   "metadata": {},
   "outputs": [],
   "source": [
    "reddit = praw.Reddit(client_id='CN4F33LP3atBxFBBiLkYDg',\n",
    "                    client_secret='WajP_aVpMqsTAKZakCdMc0IBho9SNw',\n",
    "                    user_agent='stevehan2001') ## to use this, make a Reddit app. Client ID is in top left corner, client secret is given, and user agent is the username that the app is under\n",
    "\n",
    "\n"
   ]
  },
  {
   "cell_type": "code",
   "execution_count": 17,
   "id": "fa0a43f5-0937-4e64-8f35-af6554702770",
   "metadata": {},
   "outputs": [],
   "source": [
    "sub_reddits = reddit.subreddit('wallstreetbets')\n",
    "# stocks = [\"GME\", \"AMC\"] \n",
    "stocks = [\"GS\"] \n",
    "# For example purposes. To use this as a live trading tool, you'd want to populate this with tickers that have been mentioned on the pertinent community (WSB in our case) in a specified period.\n",
    "\n",
    "\n",
    "def commentSentiment(ticker, urlT):\n",
    "    subComments = []\n",
    "    bodyComment = []\n",
    "    try:\n",
    "        check = reddit.submission(url=urlT)\n",
    "        subComments = check.comments\n",
    "    except:\n",
    "        print(\"exception occured\")\n",
    "        return 0\n",
    "    \n",
    "    for comment in subComments:\n",
    "        try: \n",
    "            bodyComment.append(comment.body)\n",
    "        except:\n",
    "            print(\"exception occured\")\n",
    "            return 0\n",
    "    \n",
    "    sia = SIA()\n",
    "    results = []\n",
    "    for line in bodyComment:\n",
    "        scores = sia.polarity_scores(line)\n",
    "        scores['headline'] = line\n",
    "\n",
    "        results.append(scores)\n",
    "    \n",
    "    df =pd.DataFrame.from_records(results)\n",
    "    df.head()\n",
    "    df['label'] = 0\n",
    "    \n",
    "    try:\n",
    "        df.loc[df['compound'] > 0.1, 'label'] = 1\n",
    "        df.loc[df['compound'] < -0.1, 'label'] = -1\n",
    "    except:\n",
    "        return 0\n",
    "    \n",
    "    averageScore = 0\n",
    "    position = 0\n",
    "    while position < len(df.label)-1:\n",
    "        averageScore = averageScore + df.label[position]\n",
    "        position += 1\n",
    "    averageScore = averageScore/len(df.label) \n",
    "    \n",
    "    return(averageScore)\n",
    "\n",
    "\n",
    "def latestComment(ticker, urlT):\n",
    "    subComments = []\n",
    "    updateDates = []\n",
    "    try:\n",
    "        check = reddit.submission(url=urlT)\n",
    "        subComments = check.comments\n",
    "    except:\n",
    "        return 0\n",
    "    \n",
    "    for comment in subComments:\n",
    "        try: \n",
    "            updateDates.append(comment.created_utc)\n",
    "        except:\n",
    "            return 0\n",
    "    \n",
    "    updateDates.sort()\n",
    "    return(updateDates[-1])\n",
    "\n",
    "def get_date(date):\n",
    "    return dt.datetime.fromtimestamp(date)"
   ]
  },
  {
   "cell_type": "code",
   "execution_count": null,
   "id": "0ea08236-a57c-45d4-b3b4-5d343afd8ce3",
   "metadata": {},
   "outputs": [
    {
     "name": "stdout",
     "output_type": "stream",
     "text": [
      "Historical Post Earnings Moves MEGA Compilation (Q2 Week 1) - $JPM, $GS, $WFC, $BAC, $MS, $TSM, and More\n",
      "DD. No one is talking about the student debt bubble! THIS COULD BE THE NEXT BIG SHOT.. SLM, NAVI, JPM, GS\n"
     ]
    }
   ],
   "source": [
    "submission_statistics = []\n",
    "d = {}\n",
    "for ticker in stocks:\n",
    "    for submission in reddit.subreddit('wallstreetbets').search(ticker, limit=10):\n",
    "        if submission.domain != \"self.wallstreetbets\":\n",
    "            continue\n",
    "        print(submission.title)\n",
    "        d = {}\n",
    "        d['ticker'] = ticker\n",
    "        d['title'] = submission.title\n",
    "        d['num_comments'] = submission.num_comments\n",
    "        d['comment_sentiment_average'] = commentSentiment(ticker, submission.url)\n",
    "        if d['comment_sentiment_average'] == 0.000000:\n",
    "            continue\n",
    "        d['latest_comment_date'] = latestComment(ticker, submission.url)\n",
    "        d['score'] = submission.score\n",
    "        d['upvote_ratio'] = submission.upvote_ratio\n",
    "        d['date'] = submission.created_utc\n",
    "        d['domain'] = submission.domain\n",
    "        d['num_crossposts'] = submission.num_crossposts\n",
    "        d['author'] = submission.author\n",
    "        submission_statistics.append(d)\n",
    "    \n",
    "dfSentimentStocks = pd.DataFrame(submission_statistics)\n",
    "\n",
    "_timestampcreated = dfSentimentStocks[\"date\"].apply(get_date)\n",
    "dfSentimentStocks = dfSentimentStocks.assign(timestamp = _timestampcreated)\n",
    "\n",
    "_timestampcomment = dfSentimentStocks[\"latest_comment_date\"].apply(get_date)\n",
    "dfSentimentStocks = dfSentimentStocks.assign(commentdate = _timestampcomment)\n",
    "\n",
    "dfSentimentStocks.sort_values(\"latest_comment_date\", axis = 0, ascending = True,inplace = True, na_position ='last') \n",
    "\n",
    "dfSentimentStocks\n",
    "\n",
    "\n",
    "# In[9]:\n",
    "\n",
    "\n",
    "dfSentimentStocks.author.value_counts()\n",
    "\n",
    "\n",
    "# In[10]:\n",
    "\n",
    "\n",
    "dfSentimentStocks.to_csv('Reddit_Sentiment_Equity.csv', index=False) \n",
    "\n",
    "\n",
    "# In[ ]:"
   ]
  },
  {
   "cell_type": "code",
   "execution_count": null,
   "id": "b37f90bb-ede5-4781-99f8-cd3f9ebaf73a",
   "metadata": {},
   "outputs": [],
   "source": []
  }
 ],
 "metadata": {
  "kernelspec": {
   "display_name": "Python 3 (ipykernel)",
   "language": "python",
   "name": "python3"
  },
  "language_info": {
   "codemirror_mode": {
    "name": "ipython",
    "version": 3
   },
   "file_extension": ".py",
   "mimetype": "text/x-python",
   "name": "python",
   "nbconvert_exporter": "python",
   "pygments_lexer": "ipython3",
   "version": "3.9.8"
  }
 },
 "nbformat": 4,
 "nbformat_minor": 5
}
